{
 "cells": [
  {
   "cell_type": "code",
   "execution_count": 2,
   "metadata": {},
   "outputs": [],
   "source": [
    "from __future__ import division, print_function"
   ]
  },
  {
   "cell_type": "markdown",
   "metadata": {},
   "source": [
    "## Evaluate deep model for sequence editing from Keras\n",
    "\n",
    "### Obtain data and keras model\n",
    "We will load a keras model and compute importance scores\n",
    "\n",
    "#### Download the keras model\n",
    "Download a model with 2 strided convolutional layers and 2 dense layers, similar to the one in the paper."
   ]
  },
  {
   "cell_type": "markdown",
   "metadata": {},
   "source": [
    "Tweaking"
   ]
  },
  {
   "cell_type": "markdown",
   "metadata": {},
   "source": [
    "### Load the keras model\n",
    "A user warning about compilation is generated because this model was converted from a keras 1.2 model and was thus never compiled for training."
   ]
  },
  {
   "cell_type": "code",
   "execution_count": 5,
   "metadata": {},
   "outputs": [
    {
     "name": "stderr",
     "output_type": "stream",
     "text": [
      "Using TensorFlow backend.\n"
     ]
    },
    {
     "name": "stdout",
     "output_type": "stream",
     "text": [
      "_________________________________________________________________\n",
      "Layer (type)                 Output Shape              Param #   \n",
      "=================================================================\n",
      "conv1 (Conv1D)               (None, 94, 1024)          41984     \n",
      "_________________________________________________________________\n",
      "downsample1 (MaxPooling1D)   (None, 94, 1024)          0         \n",
      "_________________________________________________________________\n",
      "conv2 (Conv1D)               (None, 90, 64)            327744    \n",
      "_________________________________________________________________\n",
      "downsample2 (MaxPooling1D)   (None, 90, 64)            0         \n",
      "_________________________________________________________________\n",
      "dropout1 (Dropout)           (None, 90, 64)            0         \n",
      "_________________________________________________________________\n",
      "conv3 (Conv1D)               (None, 86, 64)            20544     \n",
      "_________________________________________________________________\n",
      "conv4 (Conv1D)               (None, 84, 64)            12352     \n",
      "_________________________________________________________________\n",
      "downsample3 (MaxPooling1D)   (None, 84, 64)            0         \n",
      "_________________________________________________________________\n",
      "flatten1 (Flatten)           (None, 5376)              0         \n",
      "_________________________________________________________________\n",
      "dropout2 (Dropout)           (None, 5376)              0         \n",
      "_________________________________________________________________\n",
      "dense_1 (Dense)              (None, 64)                344128    \n",
      "_________________________________________________________________\n",
      "dropout3 (Dropout)           (None, 64)                0         \n",
      "_________________________________________________________________\n",
      "dense_2 (Dense)              (None, 64)                4160      \n",
      "_________________________________________________________________\n",
      "dropout4 (Dropout)           (None, 64)                0         \n",
      "_________________________________________________________________\n",
      "dense_3 (Dense)              (None, 1)                 65        \n",
      "=================================================================\n",
      "Total params: 750,977\n",
      "Trainable params: 750,977\n",
      "Non-trainable params: 0\n",
      "_________________________________________________________________\n"
     ]
    }
   ],
   "source": [
    "import keras\n",
    "saved_model_file = \"/home/ubuntu/CRISPR-BE-RNA-editing/model_outputs/ABE-19FEB/overall_model.h5\"\n",
    "keras_model = keras.models.load_model(saved_model_file)\n",
    "keras_model.summary()"
   ]
  },
  {
   "cell_type": "markdown",
   "metadata": {},
   "source": [
    "### Load the data"
   ]
  },
  {
   "cell_type": "code",
   "execution_count": 3,
   "metadata": {},
   "outputs": [
    {
     "name": "stdout",
     "output_type": "stream",
     "text": [
      "('./test_ABE.fasta.gz', 1000)\n"
     ]
    }
   ],
   "source": [
    "import gzip\n",
    "import glob\n",
    "import numpy as np\n",
    "import random\n",
    "import pandas\n",
    "\n",
    "seqlen = 101\n",
    "data_path = \".\"\n",
    "\n",
    "def read_fasta(f):\n",
    "    def gen():\n",
    "        for l in gzip.open(f, \"r\"):\n",
    "            if l.startswith(b'>'):\n",
    "               library, location, strand, rate, cov, anno, gene = l.split(b'_')\n",
    "            else:\n",
    "                yield l.strip().decode().lower(), float(rate)\n",
    "    stack = pandas.DataFrame.from_records([v for v in gen()], columns=\"sequence rate\".split())\n",
    "    print(f, stack.shape[0])\n",
    "    return stack\n",
    "\n",
    "\n",
    "def read_fasta_to_arrays():\n",
    "    fasta_files = sorted(glob.glob(data_path + '/*.fasta.gz'))\n",
    "    fasta_arrays = [read_fasta(f) for f in fasta_files]\n",
    "    return fasta_arrays\n",
    "\n",
    "weighted_arrays = read_fasta_to_arrays()"
   ]
  },
  {
   "cell_type": "code",
   "execution_count": 10,
   "metadata": {},
   "outputs": [],
   "source": [
    "import numpy as np\n",
    "\n",
    "#this is set up for 1d convolutions where examples\n",
    "#have dimensions (len, num_channels)\n",
    "#the channel axis is the axis for one-hot encoding.\n",
    "def one_hot_encode_along_channel_axis(sequence):\n",
    "    to_return = np.zeros((len(sequence),5), dtype=np.int8)\n",
    "    seq_to_one_hot_fill_in_array(zeros_array=to_return,\n",
    "                                 sequence=sequence, one_hot_axis=1)\n",
    "    return to_return\n",
    "\n",
    "def seq_to_one_hot_fill_in_array(zeros_array, sequence, one_hot_axis):\n",
    "    assert one_hot_axis==0 or one_hot_axis==1\n",
    "    if (one_hot_axis==0):\n",
    "        assert zeros_array.shape[1] == len(sequence)\n",
    "    elif (one_hot_axis==1): \n",
    "        assert zeros_array.shape[0] == len(sequence)\n",
    "    #will mutate zeros_array\n",
    "    for (i,char) in enumerate(sequence):\n",
    "        if(i == 50):\n",
    "            char_idx = 4 # this corresponds to the edit - specific channel\n",
    "        elif (char==\"A\" or char==\"a\"):\n",
    "            char_idx = 0\n",
    "        elif (char==\"C\" or char==\"c\"):\n",
    "            char_idx = 1\n",
    "        elif (char==\"G\" or char==\"g\"):\n",
    "            char_idx = 2\n",
    "        elif (char==\"T\" or char==\"t\"):\n",
    "            char_idx = 3\n",
    "        elif (char==\"N\" or char==\"n\"):\n",
    "            continue #leave that pos as all 0's\n",
    "        else:\n",
    "            raise RuntimeError(\"Unsupported character: \"+str(char))\n",
    "        if (one_hot_axis==0):\n",
    "            zeros_array[char_idx,i] = 1\n",
    "        elif (one_hot_axis==1):\n",
    "            zeros_array[i,char_idx] = 1\n",
    "            \n",
    "onehot_data = np.array([one_hot_encode_along_channel_axis(seq) for seq in weighted_arrays[0].sequence])"
   ]
  },
  {
   "cell_type": "code",
   "execution_count": 12,
   "metadata": {},
   "outputs": [
    {
     "data": {
      "text/plain": [
       "(1000, 101, 5)"
      ]
     },
     "execution_count": 12,
     "metadata": {},
     "output_type": "execute_result"
    }
   ],
   "source": [
    "onehot_data.shape"
   ]
  },
  {
   "cell_type": "markdown",
   "metadata": {},
   "source": [
    "## Prepare the deeplift models\n",
    "\n",
    "### Model conversion\n",
    "Convert the keras models to deeplift models capable of computing importance scores using DeepLIFT-RevealCancel, gradients and guided backprop"
   ]
  },
  {
   "cell_type": "code",
   "execution_count": 38,
   "metadata": {},
   "outputs": [
    {
     "name": "stdout",
     "output_type": "stream",
     "text": [
      "nonlinear_mxts_mode is set to: RevealCancel\n",
      "Heads-up: current implementation assumes maxpool layer is followed by a linear transformation (conv/dense layer)\n",
      "Heads-up: current implementation assumes maxpool layer is followed by a linear transformation (conv/dense layer)\n",
      "Heads-up: current implementation assumes maxpool layer is followed by a linear transformation (conv/dense layer)\n",
      "nonlinear_mxts_mode is set to: DeepLIFT_GenomicsDefault\n",
      "For layer 0 the preceding linear layer is preact_0 of type Conv1D;\n",
      "In accordance with nonlinear_mxts_mode=DeepLIFT_GenomicsDefault we are setting the NonlinearMxtsMode to Rescale\n",
      "Heads-up: current implementation assumes maxpool layer is followed by a linear transformation (conv/dense layer)\n",
      "For layer 2 the preceding linear layer is preact_2 of type Conv1D;\n",
      "In accordance with nonlinear_mxts_mode=DeepLIFT_GenomicsDefault we are setting the NonlinearMxtsMode to Rescale\n",
      "Heads-up: current implementation assumes maxpool layer is followed by a linear transformation (conv/dense layer)\n",
      "For layer 5 the preceding linear layer is preact_5 of type Conv1D;\n",
      "In accordance with nonlinear_mxts_mode=DeepLIFT_GenomicsDefault we are setting the NonlinearMxtsMode to Rescale\n",
      "For layer 6 the preceding linear layer is preact_6 of type Conv1D;\n",
      "In accordance with nonlinear_mxts_mode=DeepLIFT_GenomicsDefault we are setting the NonlinearMxtsMode to Rescale\n",
      "Heads-up: current implementation assumes maxpool layer is followed by a linear transformation (conv/dense layer)\n",
      "For layer 10 the preceding linear layer is preact_10 of type Dense;\n",
      "In accordance with nonlinear_mxts_modeDeepLIFT_GenomicsDefault we are setting the NonlinearMxtsMode to RevealCancel\n",
      "For layer 12 the preceding linear layer is preact_12 of type Dense;\n",
      "In accordance with nonlinear_mxts_modeDeepLIFT_GenomicsDefault we are setting the NonlinearMxtsMode to RevealCancel\n"
     ]
    }
   ],
   "source": [
    "import deeplift\n",
    "from deeplift.layers import NonlinearMxtsMode\n",
    "from deeplift.conversion import kerasapi_conversion as kc\n",
    "\n",
    "#Three different models, one each for RevealCancel, Gradient and GuidedBackprop\n",
    "revealcancel_model = kc.convert_model_from_saved_files(\n",
    "                            h5_file=saved_model_file,\n",
    "                            nonlinear_mxts_mode=NonlinearMxtsMode.RevealCancel)\n",
    "#grad_model = kc.convert_model_from_saved_files(\n",
    "#                            h5_file=saved_model_file,\n",
    "#                            nonlinear_mxts_mode=NonlinearMxtsMode.Gradient)\n",
    "#guided_backprop_model = kc.convert_model_from_saved_files(\n",
    "#                            h5_file=saved_model_file,\n",
    "#                            nonlinear_mxts_mode=NonlinearMxtsMode.GuidedBackprop)\n",
    "rescale_conv_revealcancel_fc = kc.convert_model_from_saved_files(\n",
    "                            h5_file=saved_model_file,\n",
    "                            nonlinear_mxts_mode=NonlinearMxtsMode.DeepLIFT_GenomicsDefault)\n"
   ]
  },
  {
   "cell_type": "markdown",
   "metadata": {},
   "source": [
    "### Sanity checks\n",
    "To ensure that the conversion happend correctly, ensure that the models give identical predictions\n",
    "\n",
    "If you are using a functional model, see this issue for how to adapt the code: https://github.com/kundajelab/deeplift/issues/54"
   ]
  },
  {
   "cell_type": "code",
   "execution_count": 13,
   "metadata": {},
   "outputs": [
    {
     "name": "stdout",
     "output_type": "stream",
     "text": [
      "('difference in predictions:', 0.0)\n"
     ]
    }
   ],
   "source": [
    "from deeplift.util import compile_func\n",
    "import numpy as np\n",
    "from keras import backend as K\n",
    "\n",
    "deeplift_model = revealcancel_model\n",
    "deeplift_prediction_func = compile_func([deeplift_model.get_layers()[0].get_activation_vars()],\n",
    "                                       deeplift_model.get_layers()[-1].get_activation_vars())\n",
    "original_model_predictions = keras_model.predict(onehot_data, batch_size=200)\n",
    "converted_model_predictions = deeplift.util.run_function_in_batches(\n",
    "                                input_data_list=[onehot_data],\n",
    "                                func=deeplift_prediction_func,\n",
    "                                batch_size=200,\n",
    "                                progress_update=None)\n",
    "print(\"difference in predictions:\",np.max(np.array(converted_model_predictions)-np.array(original_model_predictions)))\n",
    "assert np.max(np.array(converted_model_predictions)-np.array(original_model_predictions)) < 10**-5\n",
    "predictions = converted_model_predictions"
   ]
  },
  {
   "cell_type": "markdown",
   "metadata": {},
   "source": [
    "## Compute importance scores\n",
    "\n",
    "### Compile various scoring functions\n",
    "Using the deeplift models, we obtain the functions capable of computing the importance scores."
   ]
  },
  {
   "cell_type": "code",
   "execution_count": 39,
   "metadata": {},
   "outputs": [],
   "source": [
    "from keras import backend as K\n",
    "import deeplift\n",
    "from deeplift.util import get_integrated_gradients_function\n",
    "\n",
    "#revealcancel_func = revealcancel_model.get_target_contribs_func(find_scores_layer_idx=0, target_layer_idx=-1)\n",
    "genomics_func = rescale_conv_revealcancel_fc.get_target_contribs_func(find_scores_layer_idx=0, target_layer_idx=-1)"
   ]
  },
  {
   "cell_type": "markdown",
   "metadata": {},
   "source": [
    "### Call scoring functions on the data"
   ]
  },
  {
   "cell_type": "code",
   "execution_count": 41,
   "metadata": {},
   "outputs": [],
   "source": [
    "from collections import OrderedDict\n",
    "method_to_task_to_scores = OrderedDict()\n",
    "\n",
    "X_test = onehot_data\n",
    "\n",
    "scores = np.array(genomics_func( # revealcancel_func\n",
    "            task_idx=0,\n",
    "            input_data_list=[X_test],\n",
    "            input_references_list=[np.zeros_like(X_test)],\n",
    "            batch_size=1000,\n",
    "            progress_update=None))\n"
   ]
  },
  {
   "cell_type": "markdown",
   "metadata": {},
   "source": [
    "## Plot figures\n",
    "\n",
    "### Prepare various functions to aid in plotting"
   ]
  },
  {
   "cell_type": "code",
   "execution_count": 43,
   "metadata": {},
   "outputs": [],
   "source": [
    "scores2= np.delete(scores, 4, 2)\n"
   ]
  },
  {
   "cell_type": "code",
   "execution_count": 37,
   "metadata": {},
   "outputs": [
    {
     "data": {
      "text/plain": [
       "array([[-0.0000000e+00, -6.1481178e-04, -0.0000000e+00, -0.0000000e+00],\n",
       "       [-0.0000000e+00, -3.6691431e-02, -0.0000000e+00, -0.0000000e+00],\n",
       "       [-0.0000000e+00,  2.1519423e-02, -0.0000000e+00, -0.0000000e+00],\n",
       "       [-0.0000000e+00,  6.3692003e-02, -0.0000000e+00, -0.0000000e+00],\n",
       "       [-0.0000000e+00, -0.0000000e+00,  4.9891794e-01, -0.0000000e+00],\n",
       "       [-0.0000000e+00, -0.0000000e+00, -0.0000000e+00, -5.8200312e-01],\n",
       "       [-0.0000000e+00, -0.0000000e+00,  1.2180684e+00, -0.0000000e+00],\n",
       "       [-4.8506033e-01, -0.0000000e+00, -0.0000000e+00, -0.0000000e+00],\n",
       "       [-3.3337188e-01, -0.0000000e+00, -0.0000000e+00, -0.0000000e+00],\n",
       "       [-0.0000000e+00,  8.0002546e-01, -0.0000000e+00, -0.0000000e+00],\n",
       "       [-1.8944633e-01, -0.0000000e+00, -0.0000000e+00, -0.0000000e+00],\n",
       "       [-0.0000000e+00,  9.0621471e-02, -0.0000000e+00, -0.0000000e+00],\n",
       "       [-0.0000000e+00, -0.0000000e+00,  2.2975230e-01, -0.0000000e+00],\n",
       "       [-7.9484689e-01, -0.0000000e+00, -0.0000000e+00, -0.0000000e+00],\n",
       "       [-0.0000000e+00,  4.0895200e-01, -0.0000000e+00, -0.0000000e+00],\n",
       "       [-0.0000000e+00, -0.0000000e+00,  1.0999870e-01, -0.0000000e+00],\n",
       "       [-0.0000000e+00, -0.0000000e+00,  3.1778860e-01, -0.0000000e+00],\n",
       "       [-0.0000000e+00, -0.0000000e+00, -0.0000000e+00, -6.7033541e-01],\n",
       "       [-0.0000000e+00, -0.0000000e+00,  6.4577734e-01, -0.0000000e+00],\n",
       "       [-0.0000000e+00, -0.0000000e+00,  1.6548097e-01, -0.0000000e+00],\n",
       "       [-4.0472531e-01, -0.0000000e+00, -0.0000000e+00, -0.0000000e+00],\n",
       "       [-0.0000000e+00,  3.4715164e-01, -0.0000000e+00, -0.0000000e+00],\n",
       "       [-0.0000000e+00, -0.0000000e+00, -0.0000000e+00, -4.8076570e-01],\n",
       "       [-0.0000000e+00, -0.0000000e+00, -0.0000000e+00, -3.5052228e-01],\n",
       "       [-0.0000000e+00,  3.0877841e-01, -0.0000000e+00, -0.0000000e+00],\n",
       "       [-0.0000000e+00, -0.0000000e+00, -1.9672871e-01, -0.0000000e+00],\n",
       "       [-0.0000000e+00, -0.0000000e+00,  4.7071743e-01, -0.0000000e+00],\n",
       "       [-0.0000000e+00, -0.0000000e+00,  5.4147470e-01, -0.0000000e+00],\n",
       "       [-0.0000000e+00, -0.0000000e+00,  4.6849775e-01, -0.0000000e+00],\n",
       "       [-0.0000000e+00, -0.0000000e+00,  3.9244163e-01, -0.0000000e+00],\n",
       "       [-0.0000000e+00, -0.0000000e+00,  2.8079236e-01, -0.0000000e+00],\n",
       "       [-1.0770104e+00, -0.0000000e+00, -0.0000000e+00, -0.0000000e+00],\n",
       "       [-0.0000000e+00,  4.1664386e-01, -0.0000000e+00, -0.0000000e+00],\n",
       "       [-0.0000000e+00,  2.7695382e-01, -0.0000000e+00, -0.0000000e+00],\n",
       "       [-6.5774381e-01, -0.0000000e+00, -0.0000000e+00, -0.0000000e+00],\n",
       "       [-0.0000000e+00, -1.1256766e-01, -0.0000000e+00, -0.0000000e+00],\n",
       "       [-0.0000000e+00, -0.0000000e+00,  1.1784685e-01, -0.0000000e+00],\n",
       "       [-0.0000000e+00, -0.0000000e+00, -0.0000000e+00, -1.1638670e+00],\n",
       "       [-0.0000000e+00,  1.6632764e+00, -0.0000000e+00, -0.0000000e+00],\n",
       "       [-0.0000000e+00,  9.8872417e-01, -0.0000000e+00, -0.0000000e+00],\n",
       "       [-0.0000000e+00, -0.0000000e+00, -0.0000000e+00, -2.0171211e+00],\n",
       "       [-0.0000000e+00,  0.0000000e+00,  0.0000000e+00, -1.2451303e+00],\n",
       "       [-0.0000000e+00,  2.3271437e+00,  0.0000000e+00, -0.0000000e+00],\n",
       "       [-0.0000000e+00,  2.0117707e+00, -0.0000000e+00, -0.0000000e+00],\n",
       "       [-2.2787657e+00,  0.0000000e+00,  0.0000000e+00, -0.0000000e+00],\n",
       "       [-0.0000000e+00,  0.0000000e+00,  9.4084942e-01,  0.0000000e+00],\n",
       "       [ 0.0000000e+00,  0.0000000e+00,  0.0000000e+00,  9.5422661e-01],\n",
       "       [ 0.0000000e+00,  0.0000000e+00, -5.4998398e-03,  0.0000000e+00],\n",
       "       [ 0.0000000e+00, -1.7727631e+00,  0.0000000e+00,  0.0000000e+00],\n",
       "       [ 1.5131469e+00,  0.0000000e+00,  0.0000000e+00,  0.0000000e+00],\n",
       "       [ 0.0000000e+00,  0.0000000e+00,  0.0000000e+00,  0.0000000e+00],\n",
       "       [ 0.0000000e+00,  0.0000000e+00, -1.6866163e+00,  0.0000000e+00],\n",
       "       [ 0.0000000e+00,  0.0000000e+00, -9.9854600e-01,  0.0000000e+00],\n",
       "       [ 0.0000000e+00, -0.0000000e+00,  0.0000000e+00,  1.2851912e+00],\n",
       "       [ 0.0000000e+00, -0.0000000e+00,  1.0260990e+00, -0.0000000e+00],\n",
       "       [ 0.0000000e+00, -1.9973129e-01, -0.0000000e+00, -0.0000000e+00],\n",
       "       [-0.0000000e+00, -0.0000000e+00,  7.2503489e-01, -0.0000000e+00],\n",
       "       [-0.0000000e+00, -2.7903986e-01, -0.0000000e+00, -0.0000000e+00],\n",
       "       [ 3.1415701e-01, -0.0000000e+00, -0.0000000e+00, -0.0000000e+00],\n",
       "       [-0.0000000e+00, -0.0000000e+00,  3.6020720e-01, -0.0000000e+00],\n",
       "       [-0.0000000e+00,  1.7945874e-01, -0.0000000e+00, -0.0000000e+00],\n",
       "       [-0.0000000e+00, -0.0000000e+00,  1.6238773e-01, -0.0000000e+00],\n",
       "       [-3.6446071e-01, -0.0000000e+00, -0.0000000e+00, -0.0000000e+00],\n",
       "       [-0.0000000e+00,  3.6339474e-01, -0.0000000e+00, -0.0000000e+00],\n",
       "       [-0.0000000e+00, -0.0000000e+00, -1.2509966e-01, -0.0000000e+00],\n",
       "       [-0.0000000e+00, -0.0000000e+00, -0.0000000e+00, -5.0717676e-01],\n",
       "       [-0.0000000e+00, -0.0000000e+00,  7.7152920e-01, -0.0000000e+00],\n",
       "       [-6.3533878e-01, -0.0000000e+00, -0.0000000e+00, -0.0000000e+00],\n",
       "       [-5.8245397e-01, -0.0000000e+00, -0.0000000e+00, -0.0000000e+00],\n",
       "       [-0.0000000e+00, -0.0000000e+00,  3.8240087e-01, -0.0000000e+00],\n",
       "       [-0.0000000e+00,  6.8610752e-01, -0.0000000e+00, -0.0000000e+00],\n",
       "       [-0.0000000e+00,  2.4903250e-01, -0.0000000e+00, -0.0000000e+00],\n",
       "       [-0.0000000e+00, -0.0000000e+00, -3.8413990e-01, -0.0000000e+00],\n",
       "       [-0.0000000e+00, -0.0000000e+00,  1.3031757e-01, -0.0000000e+00],\n",
       "       [-0.0000000e+00, -0.0000000e+00, -0.0000000e+00, -8.1357229e-01],\n",
       "       [-0.0000000e+00, -0.0000000e+00,  5.9311867e-01, -0.0000000e+00],\n",
       "       [-6.4944124e-01, -0.0000000e+00, -0.0000000e+00, -0.0000000e+00],\n",
       "       [-0.0000000e+00, -0.0000000e+00, -0.0000000e+00, -3.5457349e-01],\n",
       "       [-0.0000000e+00,  1.0623323e+00, -0.0000000e+00, -0.0000000e+00],\n",
       "       [-0.0000000e+00,  6.8510354e-01, -0.0000000e+00, -0.0000000e+00],\n",
       "       [-3.8153934e-01, -0.0000000e+00, -0.0000000e+00, -0.0000000e+00],\n",
       "       [-0.0000000e+00, -0.0000000e+00,  2.4406672e-02, -0.0000000e+00],\n",
       "       [-0.0000000e+00, -0.0000000e+00, -0.0000000e+00, -6.2232006e-01],\n",
       "       [-0.0000000e+00, -0.0000000e+00,  2.4879706e-01, -0.0000000e+00],\n",
       "       [-0.0000000e+00, -0.0000000e+00,  1.4736295e-01, -0.0000000e+00],\n",
       "       [-0.0000000e+00,  8.0134106e-01, -0.0000000e+00, -0.0000000e+00],\n",
       "       [-0.0000000e+00, -0.0000000e+00, -0.0000000e+00, -4.1715908e-01],\n",
       "       [-0.0000000e+00, -0.0000000e+00,  5.1689267e-02, -0.0000000e+00],\n",
       "       [-9.1704369e-02, -0.0000000e+00, -0.0000000e+00, -0.0000000e+00],\n",
       "       [ 3.1588888e-01, -0.0000000e+00, -0.0000000e+00, -0.0000000e+00],\n",
       "       [-0.0000000e+00, -0.0000000e+00,  3.6702383e-01, -0.0000000e+00],\n",
       "       [-0.0000000e+00,  3.5560524e-01, -0.0000000e+00, -0.0000000e+00],\n",
       "       [-0.0000000e+00, -0.0000000e+00, -1.5840387e-01, -0.0000000e+00],\n",
       "       [-0.0000000e+00,  2.1373165e-01, -0.0000000e+00, -0.0000000e+00],\n",
       "       [-0.0000000e+00, -0.0000000e+00, -1.6183877e-01, -0.0000000e+00],\n",
       "       [-0.0000000e+00, -0.0000000e+00, -0.0000000e+00, -5.8570731e-01],\n",
       "       [-0.0000000e+00, -0.0000000e+00,  2.0977138e-01, -0.0000000e+00],\n",
       "       [-0.0000000e+00, -0.0000000e+00,  2.2996426e-02, -0.0000000e+00],\n",
       "       [-1.0589440e-01,  0.0000000e+00, -0.0000000e+00, -0.0000000e+00],\n",
       "       [-0.0000000e+00,  0.0000000e+00, -1.0447860e-02, -0.0000000e+00],\n",
       "       [-0.0000000e+00,  0.0000000e+00, -0.0000000e+00, -1.5221462e-03]],\n",
       "      dtype=float32)"
      ]
     },
     "execution_count": 37,
     "metadata": {},
     "output_type": "execute_result"
    }
   ],
   "source": [
    "scores2[600]\n"
   ]
  },
  {
   "cell_type": "code",
   "execution_count": 47,
   "metadata": {},
   "outputs": [
    {
     "name": "stdout",
     "output_type": "stream",
     "text": [
      "Preceding 10 bases: cctgcagta\n",
      "Preceding 10 bases: tcgggtgagt\n"
     ]
    },
    {
     "ename": "TypeError",
     "evalue": "Could not operate 'Edit rate: ' with block values cannot concatenate 'str' and 'float' objects",
     "output_type": "error",
     "traceback": [
      "\u001b[0;31m---------------------------------------------------------------------------\u001b[0m",
      "\u001b[0;31mTypeError\u001b[0m                                 Traceback (most recent call last)",
      "\u001b[0;32m<ipython-input-47-41581bbecd17>\u001b[0m in \u001b[0;36m<module>\u001b[0;34m()\u001b[0m\n\u001b[1;32m      5\u001b[0m \u001b[0;32mprint\u001b[0m\u001b[0;34m(\u001b[0m\u001b[0;34m\"Preceding 10 bases: \"\u001b[0m \u001b[0;34m+\u001b[0m \u001b[0mweighted_arrays\u001b[0m\u001b[0;34m[\u001b[0m\u001b[0;36m0\u001b[0m\u001b[0;34m]\u001b[0m\u001b[0;34m.\u001b[0m\u001b[0msequence\u001b[0m\u001b[0;34m[\u001b[0m\u001b[0midx_view\u001b[0m\u001b[0;34m]\u001b[0m\u001b[0;34m[\u001b[0m\u001b[0;36m40\u001b[0m\u001b[0;34m:\u001b[0m\u001b[0;36m49\u001b[0m\u001b[0;34m]\u001b[0m\u001b[0;34m)\u001b[0m\u001b[0;34m\u001b[0m\u001b[0m\n\u001b[1;32m      6\u001b[0m \u001b[0;32mprint\u001b[0m\u001b[0;34m(\u001b[0m\u001b[0;34m\"Preceding 10 bases: \"\u001b[0m \u001b[0;34m+\u001b[0m \u001b[0mweighted_arrays\u001b[0m\u001b[0;34m[\u001b[0m\u001b[0;36m0\u001b[0m\u001b[0;34m]\u001b[0m\u001b[0;34m.\u001b[0m\u001b[0msequence\u001b[0m\u001b[0;34m[\u001b[0m\u001b[0midx_view\u001b[0m\u001b[0;34m]\u001b[0m\u001b[0;34m[\u001b[0m\u001b[0;36m51\u001b[0m\u001b[0;34m:\u001b[0m\u001b[0;36m61\u001b[0m\u001b[0;34m]\u001b[0m\u001b[0;34m)\u001b[0m\u001b[0;34m\u001b[0m\u001b[0m\n\u001b[0;32m----> 7\u001b[0;31m \u001b[0;32mprint\u001b[0m\u001b[0;34m(\u001b[0m\u001b[0;34m\"Edit rate: \"\u001b[0m \u001b[0;34m+\u001b[0m \u001b[0mweighted_arrays\u001b[0m\u001b[0;34m[\u001b[0m\u001b[0;36m0\u001b[0m\u001b[0;34m]\u001b[0m\u001b[0;34m)\u001b[0m\u001b[0;34m\u001b[0m\u001b[0m\n\u001b[0m\u001b[1;32m      8\u001b[0m \u001b[0;34m\u001b[0m\u001b[0m\n\u001b[1;32m      9\u001b[0m \u001b[0mscores_for_idx\u001b[0m \u001b[0;34m=\u001b[0m \u001b[0mscores2\u001b[0m\u001b[0;34m[\u001b[0m\u001b[0midx_view\u001b[0m\u001b[0;34m]\u001b[0m\u001b[0;34m\u001b[0m\u001b[0m\n",
      "\u001b[0;32m/usr/local/lib/python2.7/dist-packages/pandas/core/ops.pyc\u001b[0m in \u001b[0;36mf\u001b[0;34m(self, other, axis, level, fill_value)\u001b[0m\n\u001b[1;32m   1557\u001b[0m                 \u001b[0mself\u001b[0m \u001b[0;34m=\u001b[0m \u001b[0mself\u001b[0m\u001b[0;34m.\u001b[0m\u001b[0mfillna\u001b[0m\u001b[0;34m(\u001b[0m\u001b[0mfill_value\u001b[0m\u001b[0;34m)\u001b[0m\u001b[0;34m\u001b[0m\u001b[0m\n\u001b[1;32m   1558\u001b[0m \u001b[0;34m\u001b[0m\u001b[0m\n\u001b[0;32m-> 1559\u001b[0;31m             \u001b[0;32mreturn\u001b[0m \u001b[0mself\u001b[0m\u001b[0;34m.\u001b[0m\u001b[0m_combine_const\u001b[0m\u001b[0;34m(\u001b[0m\u001b[0mother\u001b[0m\u001b[0;34m,\u001b[0m \u001b[0mna_op\u001b[0m\u001b[0;34m,\u001b[0m \u001b[0mtry_cast\u001b[0m\u001b[0;34m=\u001b[0m\u001b[0mTrue\u001b[0m\u001b[0;34m)\u001b[0m\u001b[0;34m\u001b[0m\u001b[0m\n\u001b[0m\u001b[1;32m   1560\u001b[0m \u001b[0;34m\u001b[0m\u001b[0m\n\u001b[1;32m   1561\u001b[0m     \u001b[0mf\u001b[0m\u001b[0;34m.\u001b[0m\u001b[0m__name__\u001b[0m \u001b[0;34m=\u001b[0m \u001b[0mop_name\u001b[0m\u001b[0;34m\u001b[0m\u001b[0m\n",
      "\u001b[0;32m/usr/local/lib/python2.7/dist-packages/pandas/core/frame.pyc\u001b[0m in \u001b[0;36m_combine_const\u001b[0;34m(self, other, func, errors, try_cast)\u001b[0m\n\u001b[1;32m   4777\u001b[0m         new_data = self._data.eval(func=func, other=other,\n\u001b[1;32m   4778\u001b[0m                                    \u001b[0merrors\u001b[0m\u001b[0;34m=\u001b[0m\u001b[0merrors\u001b[0m\u001b[0;34m,\u001b[0m\u001b[0;34m\u001b[0m\u001b[0m\n\u001b[0;32m-> 4779\u001b[0;31m                                    try_cast=try_cast)\n\u001b[0m\u001b[1;32m   4780\u001b[0m         \u001b[0;32mreturn\u001b[0m \u001b[0mself\u001b[0m\u001b[0;34m.\u001b[0m\u001b[0m_constructor\u001b[0m\u001b[0;34m(\u001b[0m\u001b[0mnew_data\u001b[0m\u001b[0;34m)\u001b[0m\u001b[0;34m\u001b[0m\u001b[0m\n\u001b[1;32m   4781\u001b[0m \u001b[0;34m\u001b[0m\u001b[0m\n",
      "\u001b[0;32m/usr/local/lib/python2.7/dist-packages/pandas/core/internals.pyc\u001b[0m in \u001b[0;36meval\u001b[0;34m(self, **kwargs)\u001b[0m\n\u001b[1;32m   3685\u001b[0m \u001b[0;34m\u001b[0m\u001b[0m\n\u001b[1;32m   3686\u001b[0m     \u001b[0;32mdef\u001b[0m \u001b[0meval\u001b[0m\u001b[0;34m(\u001b[0m\u001b[0mself\u001b[0m\u001b[0;34m,\u001b[0m \u001b[0;34m**\u001b[0m\u001b[0mkwargs\u001b[0m\u001b[0;34m)\u001b[0m\u001b[0;34m:\u001b[0m\u001b[0;34m\u001b[0m\u001b[0m\n\u001b[0;32m-> 3687\u001b[0;31m         \u001b[0;32mreturn\u001b[0m \u001b[0mself\u001b[0m\u001b[0;34m.\u001b[0m\u001b[0mapply\u001b[0m\u001b[0;34m(\u001b[0m\u001b[0;34m'eval'\u001b[0m\u001b[0;34m,\u001b[0m \u001b[0;34m**\u001b[0m\u001b[0mkwargs\u001b[0m\u001b[0;34m)\u001b[0m\u001b[0;34m\u001b[0m\u001b[0m\n\u001b[0m\u001b[1;32m   3688\u001b[0m \u001b[0;34m\u001b[0m\u001b[0m\n\u001b[1;32m   3689\u001b[0m     \u001b[0;32mdef\u001b[0m \u001b[0mquantile\u001b[0m\u001b[0;34m(\u001b[0m\u001b[0mself\u001b[0m\u001b[0;34m,\u001b[0m \u001b[0;34m**\u001b[0m\u001b[0mkwargs\u001b[0m\u001b[0;34m)\u001b[0m\u001b[0;34m:\u001b[0m\u001b[0;34m\u001b[0m\u001b[0m\n",
      "\u001b[0;32m/usr/local/lib/python2.7/dist-packages/pandas/core/internals.pyc\u001b[0m in \u001b[0;36mapply\u001b[0;34m(self, f, axes, filter, do_integrity_check, consolidate, **kwargs)\u001b[0m\n\u001b[1;32m   3579\u001b[0m \u001b[0;34m\u001b[0m\u001b[0m\n\u001b[1;32m   3580\u001b[0m             \u001b[0mkwargs\u001b[0m\u001b[0;34m[\u001b[0m\u001b[0;34m'mgr'\u001b[0m\u001b[0;34m]\u001b[0m \u001b[0;34m=\u001b[0m \u001b[0mself\u001b[0m\u001b[0;34m\u001b[0m\u001b[0m\n\u001b[0;32m-> 3581\u001b[0;31m             \u001b[0mapplied\u001b[0m \u001b[0;34m=\u001b[0m \u001b[0mgetattr\u001b[0m\u001b[0;34m(\u001b[0m\u001b[0mb\u001b[0m\u001b[0;34m,\u001b[0m \u001b[0mf\u001b[0m\u001b[0;34m)\u001b[0m\u001b[0;34m(\u001b[0m\u001b[0;34m**\u001b[0m\u001b[0mkwargs\u001b[0m\u001b[0;34m)\u001b[0m\u001b[0;34m\u001b[0m\u001b[0m\n\u001b[0m\u001b[1;32m   3582\u001b[0m             \u001b[0mresult_blocks\u001b[0m \u001b[0;34m=\u001b[0m \u001b[0m_extend_blocks\u001b[0m\u001b[0;34m(\u001b[0m\u001b[0mapplied\u001b[0m\u001b[0;34m,\u001b[0m \u001b[0mresult_blocks\u001b[0m\u001b[0;34m)\u001b[0m\u001b[0;34m\u001b[0m\u001b[0m\n\u001b[1;32m   3583\u001b[0m \u001b[0;34m\u001b[0m\u001b[0m\n",
      "\u001b[0;32m/usr/local/lib/python2.7/dist-packages/pandas/core/internals.pyc\u001b[0m in \u001b[0;36meval\u001b[0;34m(self, func, other, errors, try_cast, mgr)\u001b[0m\n\u001b[1;32m   1358\u001b[0m             return block.eval(func, orig_other,\n\u001b[1;32m   1359\u001b[0m                               \u001b[0merrors\u001b[0m\u001b[0;34m=\u001b[0m\u001b[0merrors\u001b[0m\u001b[0;34m,\u001b[0m\u001b[0;34m\u001b[0m\u001b[0m\n\u001b[0;32m-> 1360\u001b[0;31m                               try_cast=try_cast, mgr=mgr)\n\u001b[0m\u001b[1;32m   1361\u001b[0m \u001b[0;34m\u001b[0m\u001b[0m\n\u001b[1;32m   1362\u001b[0m         \u001b[0;31m# get the result, may need to transpose the other\u001b[0m\u001b[0;34m\u001b[0m\u001b[0;34m\u001b[0m\u001b[0m\n",
      "\u001b[0;32m/usr/local/lib/python2.7/dist-packages/pandas/core/internals.pyc\u001b[0m in \u001b[0;36meval\u001b[0;34m(self, func, other, errors, try_cast, mgr)\u001b[0m\n\u001b[1;32m   1420\u001b[0m             \u001b[0;32mraise\u001b[0m\u001b[0;34m\u001b[0m\u001b[0m\n\u001b[1;32m   1421\u001b[0m         \u001b[0;32mexcept\u001b[0m \u001b[0mException\u001b[0m \u001b[0;32mas\u001b[0m \u001b[0mdetail\u001b[0m\u001b[0;34m:\u001b[0m\u001b[0;34m\u001b[0m\u001b[0m\n\u001b[0;32m-> 1422\u001b[0;31m             \u001b[0mresult\u001b[0m \u001b[0;34m=\u001b[0m \u001b[0mhandle_error\u001b[0m\u001b[0;34m(\u001b[0m\u001b[0;34m)\u001b[0m\u001b[0;34m\u001b[0m\u001b[0m\n\u001b[0m\u001b[1;32m   1423\u001b[0m \u001b[0;34m\u001b[0m\u001b[0m\n\u001b[1;32m   1424\u001b[0m         \u001b[0;31m# technically a broadcast error in numpy can 'work' by returning a\u001b[0m\u001b[0;34m\u001b[0m\u001b[0;34m\u001b[0m\u001b[0m\n",
      "\u001b[0;32m/usr/local/lib/python2.7/dist-packages/pandas/core/internals.pyc\u001b[0m in \u001b[0;36mhandle_error\u001b[0;34m()\u001b[0m\n\u001b[1;32m   1403\u001b[0m                 raise TypeError(\n\u001b[1;32m   1404\u001b[0m                     \u001b[0;34m'Could not operate {other!r} with block values '\u001b[0m\u001b[0;34m\u001b[0m\u001b[0m\n\u001b[0;32m-> 1405\u001b[0;31m                     '{detail!s}'.format(other=other, detail=detail))  # noqa\n\u001b[0m\u001b[1;32m   1406\u001b[0m             \u001b[0;32melse\u001b[0m\u001b[0;34m:\u001b[0m\u001b[0;34m\u001b[0m\u001b[0m\n\u001b[1;32m   1407\u001b[0m                 \u001b[0;31m# return the values\u001b[0m\u001b[0;34m\u001b[0m\u001b[0;34m\u001b[0m\u001b[0m\n",
      "\u001b[0;31mTypeError\u001b[0m: Could not operate 'Edit rate: ' with block values cannot concatenate 'str' and 'float' objects"
     ]
    }
   ],
   "source": [
    "%matplotlib inline\n",
    "from deeplift.visualization import viz_sequence\n",
    "\n",
    "idx_view = 100\n",
    "print(\"Preceding 10 bases: \" + weighted_arrays[0].sequence[idx_view][40:49])\n",
    "print(\"Preceding 10 bases: \" + weighted_arrays[0].sequence[idx_view][51:61])\n",
    "print(\"Edit rate: \" + str(weighted_arrays[0].rate[idx_view]))\n",
    "\n",
    "scores_for_idx = scores2[idx_view]\n",
    "\n",
    "viz_sequence.plot_weights(scores_for_idx, subticks_frequency=10)"
   ]
  },
  {
   "cell_type": "code",
   "execution_count": null,
   "metadata": {},
   "outputs": [],
   "source": []
  }
 ],
 "metadata": {
  "kernelspec": {
   "display_name": "Python 2",
   "language": "python",
   "name": "python2"
  },
  "language_info": {
   "codemirror_mode": {
    "name": "ipython",
    "version": 2
   },
   "file_extension": ".py",
   "mimetype": "text/x-python",
   "name": "python",
   "nbconvert_exporter": "python",
   "pygments_lexer": "ipython2",
   "version": "2.7.12"
  }
 },
 "nbformat": 4,
 "nbformat_minor": 1
}
