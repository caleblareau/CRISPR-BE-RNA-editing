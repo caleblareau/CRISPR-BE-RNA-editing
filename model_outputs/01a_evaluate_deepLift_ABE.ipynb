{
 "cells": [
  {
   "cell_type": "code",
   "execution_count": 1,
   "metadata": {},
   "outputs": [],
   "source": [
    "from __future__ import division, print_function"
   ]
  },
  {
   "cell_type": "markdown",
   "metadata": {},
   "source": [
    "## Evaluate deep model for sequence editing from Keras\n",
    "\n",
    "### Obtain data and keras model\n",
    "We will load a keras model and compute importance scores\n",
    "\n",
    "#### Download the keras model\n",
    "Download a model with 2 strided convolutional layers and 2 dense layers, similar to the one in the paper."
   ]
  },
  {
   "cell_type": "markdown",
   "metadata": {},
   "source": [
    "Tweaking"
   ]
  },
  {
   "cell_type": "markdown",
   "metadata": {},
   "source": [
    "### Load the keras model\n",
    "A user warning about compilation is generated because this model was converted from a keras 1.2 model and was thus never compiled for training."
   ]
  },
  {
   "cell_type": "code",
   "execution_count": 185,
   "metadata": {},
   "outputs": [
    {
     "name": "stdout",
     "output_type": "stream",
     "text": [
      "_________________________________________________________________\n",
      "Layer (type)                 Output Shape              Param #   \n",
      "=================================================================\n",
      "conv1 (Conv1D)               (None, 91, 50)            2800      \n",
      "_________________________________________________________________\n",
      "conv2 (Conv1D)               (None, 81, 50)            27550     \n",
      "_________________________________________________________________\n",
      "global_average_pooling1d_20  (None, 50)                0         \n",
      "_________________________________________________________________\n",
      "dense_95 (Dense)             (None, 50)                2550      \n",
      "_________________________________________________________________\n",
      "dropout1 (Dropout)           (None, 50)                0         \n",
      "_________________________________________________________________\n",
      "dense_96 (Dense)             (None, 3)                 153       \n",
      "_________________________________________________________________\n",
      "dense_97 (Dense)             (None, 1)                 4         \n",
      "_________________________________________________________________\n",
      "activation_4 (Activation)    (None, 1)                 0         \n",
      "=================================================================\n",
      "Total params: 33,057\n",
      "Trainable params: 33,057\n",
      "Non-trainable params: 0\n",
      "_________________________________________________________________\n"
     ]
    }
   ],
   "source": [
    "import keras\n",
    "saved_model_file = \"/home/ubuntu/CRISPR-BE-RNA-editing/model_outputs/CBE-BE3-27April/overall_model.h5\"\n",
    "keras_model = keras.models.load_model(saved_model_file)\n",
    "keras_model.summary()"
   ]
  },
  {
   "cell_type": "markdown",
   "metadata": {},
   "source": [
    "### Load the data"
   ]
  },
  {
   "cell_type": "code",
   "execution_count": 186,
   "metadata": {},
   "outputs": [
    {
     "name": "stdout",
     "output_type": "stream",
     "text": [
      "/home/ubuntu/CRISPR-CBE-RNA-DATA/fastas/CBE-forDeepLift/89B-mid-sampled.fasta.gz 1000\n"
     ]
    }
   ],
   "source": [
    "import gzip\n",
    "import glob\n",
    "import numpy as np\n",
    "import random\n",
    "import pandas\n",
    "\n",
    "seqlen = 101\n",
    "edit_pos = 50\n",
    "#data_path = \"/home/ubuntu/CRISPR-ABE-RNA-DATA/fastas/ABE-forDeepLift/156B-mid-sampled.fasta.gz\"\n",
    "data_path = \"/home/ubuntu/CRISPR-CBE-RNA-DATA/fastas/CBE-forDeepLift/89B-mid-sampled.fasta.gz\"\n",
    "def read_fasta(f):\n",
    "    def gen():\n",
    "        for l in gzip.open(f, \"r\"):\n",
    "            if l.startswith(b'>'):\n",
    "                library, location, strand, rate, cov, anno, gene = l.split(b'_')\n",
    "                name = l.strip()[1:]\n",
    "            else:\n",
    "                yield l.strip().decode().lower(), float(rate), name\n",
    "    stack = pandas.DataFrame.from_records([v for v in gen()], columns=\"sequence rate name\".split())\n",
    "    print(f, stack.shape[0])\n",
    "    return stack\n",
    "\n",
    "\n",
    "seq_df = read_fasta(data_path)"
   ]
  },
  {
   "cell_type": "code",
   "execution_count": 187,
   "metadata": {},
   "outputs": [],
   "source": [
    "import numpy as np\n",
    "\n",
    "#this is set up for 1d convolutions where examples\n",
    "#have dimensions (len, num_channels)\n",
    "#the channel axis is the axis for one-hot encoding.\n",
    "def one_hot_encode_along_channel_axis(sequence):\n",
    "    to_return = np.zeros((len(sequence),5), dtype=np.int8)\n",
    "    seq_to_one_hot_fill_in_array(zeros_array=to_return,\n",
    "                                 sequence=sequence, one_hot_axis=1)\n",
    "    return to_return\n",
    "\n",
    "def seq_to_one_hot_fill_in_array(zeros_array, sequence, one_hot_axis):\n",
    "    assert one_hot_axis==0 or one_hot_axis==1\n",
    "    if (one_hot_axis==0):\n",
    "        assert zeros_array.shape[1] == len(sequence)\n",
    "    elif (one_hot_axis==1): \n",
    "        assert zeros_array.shape[0] == len(sequence)\n",
    "    \n",
    "    #will mutate zeros_array\n",
    "    for (i,char) in enumerate(sequence):\n",
    "        \n",
    "        # Hard-coded edit-specific channel\n",
    "        if(i == edit_pos):\n",
    "            char_idx = 4 # this corresponds to the edit - specific channel\n",
    "        elif (char==\"A\" or char==\"a\"):\n",
    "            char_idx = 0\n",
    "        elif (char==\"C\" or char==\"c\"):\n",
    "            char_idx = 1\n",
    "        elif (char==\"G\" or char==\"g\"):\n",
    "            char_idx = 2\n",
    "        elif (char==\"T\" or char==\"t\"):\n",
    "            char_idx = 3\n",
    "        elif (char==\"N\" or char==\"n\"):\n",
    "            continue #leave that pos as all 0's\n",
    "        else:\n",
    "            raise RuntimeError(\"Unsupported character: \"+str(char))\n",
    "        if (one_hot_axis==0):\n",
    "            zeros_array[char_idx,i] = 1\n",
    "        elif (one_hot_axis==1):\n",
    "            zeros_array[i,char_idx] = 1\n",
    "            \n",
    "onehot_data = np.array([one_hot_encode_along_channel_axis(seq) for seq in seq_df.sequence])"
   ]
  },
  {
   "cell_type": "code",
   "execution_count": 188,
   "metadata": {},
   "outputs": [
    {
     "data": {
      "text/plain": [
       "(1000, 101, 5)"
      ]
     },
     "execution_count": 188,
     "metadata": {},
     "output_type": "execute_result"
    }
   ],
   "source": [
    "onehot_data.shape"
   ]
  },
  {
   "cell_type": "markdown",
   "metadata": {},
   "source": [
    "## Prepare the deeplift models\n",
    "\n",
    "### Model conversion\n",
    "Convert the keras models to deeplift models capable of computing importance scores using DeepLIFT-RevealCancel, gradients and guided backprop"
   ]
  },
  {
   "cell_type": "code",
   "execution_count": 189,
   "metadata": {},
   "outputs": [
    {
     "name": "stdout",
     "output_type": "stream",
     "text": [
      "nonlinear_mxts_mode is set to: DeepLIFT_GenomicsDefault\n",
      "For layer 0 the preceding linear layer is preact_0 of type Conv1D;\n",
      "In accordance with nonlinear_mxts_mode=DeepLIFT_GenomicsDefault we are setting the NonlinearMxtsMode to Rescale\n",
      "For layer 1 the preceding linear layer is preact_1 of type Conv1D;\n",
      "In accordance with nonlinear_mxts_mode=DeepLIFT_GenomicsDefault we are setting the NonlinearMxtsMode to Rescale\n",
      "For layer 3 the preceding linear layer is preact_3 of type Dense;\n",
      "In accordance with nonlinear_mxts_modeDeepLIFT_GenomicsDefault we are setting the NonlinearMxtsMode to RevealCancel\n",
      "For layer 5 the preceding linear layer is preact_5 of type Dense;\n",
      "In accordance with nonlinear_mxts_modeDeepLIFT_GenomicsDefault we are setting the NonlinearMxtsMode to RevealCancel\n",
      "Heads-up: I assume sigmoid is the output layer, not an intermediate one; if it's an intermediate layer then please bug me and I will implement the grad func\n",
      "For layer 7 the preceding linear layer is 6 of type Dense;\n",
      "In accordance with nonlinear_mxts_modeDeepLIFT_GenomicsDefault we are setting the NonlinearMxtsMode to RevealCancel\n"
     ]
    }
   ],
   "source": [
    "import deeplift\n",
    "from deeplift.layers import NonlinearMxtsMode\n",
    "from deeplift.conversion import kerasapi_conversion as kc\n",
    "\n",
    "rescale_conv_revealcancel_fc = kc.convert_model_from_saved_files(\n",
    "                            h5_file=saved_model_file,\n",
    "                            nonlinear_mxts_mode=NonlinearMxtsMode.DeepLIFT_GenomicsDefault)\n"
   ]
  },
  {
   "cell_type": "code",
   "execution_count": 190,
   "metadata": {},
   "outputs": [],
   "source": [
    "from keras import backend as K\n",
    "import deeplift\n",
    "from deeplift.util import get_integrated_gradients_function\n",
    "\n",
    "genomics_func = rescale_conv_revealcancel_fc.get_target_contribs_func(find_scores_layer_idx=0, target_layer_idx=-2)"
   ]
  },
  {
   "cell_type": "markdown",
   "metadata": {},
   "source": [
    "### Call scoring functions on the data"
   ]
  },
  {
   "cell_type": "code",
   "execution_count": 191,
   "metadata": {},
   "outputs": [
    {
     "name": "stdout",
     "output_type": "stream",
     "text": [
      "10000 reference seqs generated\n",
      "One hot encoding sequences...\n",
      "One hot encoding done...\n",
      "Done 0\n"
     ]
    }
   ],
   "source": [
    "reload(deeplift.util)\n",
    "from deeplift.util import get_shuffle_seq_ref_function\n",
    "#from deeplift.util import randomly_shuffle_seq\n",
    "from deeplift.dinuc_shuffle import dinuc_shuffle #function to do a dinucleotide shuffle\n",
    "\n",
    "rescale_conv_revealcancel_fc_many_refs_func = get_shuffle_seq_ref_function(\n",
    "    #score_computation_function is the original function to compute scores\n",
    "    score_computation_function=genomics_func,\n",
    "    #shuffle_func is the function that shuffles the sequence\n",
    "    #technically, given the background of this simulation, randomly_shuffle_seq\n",
    "    #makes more sense. However, on real data, a dinuc shuffle is advisable due to\n",
    "    #the strong bias against CG dinucleotides\n",
    "    shuffle_func=dinuc_shuffle,\n",
    "    one_hot_func=lambda x: np.array([one_hot_encode_along_channel_axis(seq) for seq in x]))\n",
    "\n",
    "num_refs_per_seq=10 #number of references to generate per sequence\n",
    "\n",
    "#The sum over the ACGT axis in the code below is important! Recall that DeepLIFT\n",
    "# assigns contributions based on difference-from-reference; if\n",
    "# a position is [1,0,0,0] (i.e. 'A') in the actual sequence and [0, 1, 0, 0]\n",
    "# in the reference, importance will be assigned to the difference (1-0)\n",
    "# in the 'A' channel, and (0-1) in the 'C' channel. You want to take the importance\n",
    "# on all channels and sum them up, so that at visualization-time you can project the\n",
    "# total importance over all four channels onto the base that is actually present (i.e. the 'A'). If you\n",
    "# don't do this, your visualization will look very confusing as multiple bases will be highlighted at\n",
    "# every position and you won't know which base is the one that is actually present in the sequence!\n",
    "scores =\\\n",
    "    np.sum(rescale_conv_revealcancel_fc_many_refs_func(\n",
    "        task_idx=0,\n",
    "        input_data_sequences=seq_df.sequence,\n",
    "        num_refs_per_seq=num_refs_per_seq,\n",
    "        batch_size=1000,\n",
    "        progress_update=10000,\n",
    "    ),axis=2)"
   ]
  },
  {
   "cell_type": "code",
   "execution_count": 192,
   "metadata": {},
   "outputs": [],
   "source": [
    "# Write out to file\n",
    "file_handle_out = open(\"CBE-binary-outfile.tsv\", \"w\")\n",
    "\n",
    "# i defines which sequence is being examined\n",
    "for i in range(0,onehot_data.shape[0]): \n",
    "    scores_seq = scores[i,]\n",
    "    for pos_in_seq in range(0,onehot_data.shape[1]): # onehot_data.shape[1]\n",
    "        char = seq_df.sequence[i][pos_in_seq].decode()\n",
    "        \n",
    "        seq_name = seq_df.name[i]\n",
    "        score = round(scores_seq[pos_in_seq],4)\n",
    "        if((score < 1e-05) and (score > -1e-05)):\n",
    "                score = 0\n",
    "        file_handle_out.write((\"\\t\".join([seq_name, char, str(pos_in_seq + 1), str(score)])+\"\\n\"))\n",
    "        \n",
    "file_handle_out.close()"
   ]
  },
  {
   "cell_type": "code",
   "execution_count": 194,
   "metadata": {},
   "outputs": [
    {
     "name": "stdout",
     "output_type": "stream",
     "text": [
      "Preceding 10 bases: aaa\n",
      "Preceding 10 bases: ctc\n",
      "Edit rate: 0.1986\n",
      "0.0\n"
     ]
    },
    {
     "data": {
      "image/png": "[encoded data removed]",
      "text/plain": [
       "<Figure size 1440x144 with 1 Axes>"
      ]
     },
     "metadata": {},
     "output_type": "display_data"
    }
   ],
   "source": [
    "%matplotlib inline\n",
    "from deeplift.visualization import viz_sequence\n",
    "\n",
    "idx_view = 62\n",
    "print(\"Preceding 10 bases: \" + seq_df.sequence[idx_view][47:50])\n",
    "print(\"Preceding 10 bases: \" + seq_df.sequence[idx_view][51:54])\n",
    "print(\"Edit rate: \" + str(seq_df.rate[idx_view]))\n",
    "\n",
    "\n",
    "scores_for_idx = scores[idx_view]\n",
    "print(sum(scores_for_idx))\n",
    "original_onehot = onehot_data_noedit[idx_view]\n",
    "scores_for_idx = original_onehot*scores_for_idx[:,None]\n",
    "viz_sequence.plot_weights(scores_for_idx, subticks_frequency=10)"
   ]
  },
  {
   "cell_type": "code",
   "execution_count": null,
   "metadata": {},
   "outputs": [],
   "source": []
  },
  {
   "cell_type": "code",
   "execution_count": null,
   "metadata": {},
   "outputs": [],
   "source": []
  },
  {
   "cell_type": "code",
   "execution_count": null,
   "metadata": {},
   "outputs": [],
   "source": []
  }
 ],
 "metadata": {
  "kernelspec": {
   "display_name": "Python 2",
   "language": "python",
   "name": "python2"
  },
  "language_info": {
   "codemirror_mode": {
    "name": "ipython",
    "version": 2
   },
   "file_extension": ".py",
   "mimetype": "text/x-python",
   "name": "python",
   "nbconvert_exporter": "python",
   "pygments_lexer": "ipython2",
   "version": "2.7.12"
  }
 },
 "nbformat": 4,
 "nbformat_minor": 1
}
