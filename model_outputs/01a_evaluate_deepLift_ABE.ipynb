{
 "cells": [
  {
   "cell_type": "code",
   "execution_count": 2,
   "metadata": {},
   "outputs": [],
   "source": [
    "from __future__ import division, print_function"
   ]
  },
  {
   "cell_type": "markdown",
   "metadata": {},
   "source": [
    "## Evaluate deep model for sequence editing from Keras\n",
    "\n",
    "### Obtain data and keras model\n",
    "We will load a keras model and compute importance scores\n",
    "\n",
    "#### Download the keras model\n",
    "Download a model with 2 strided convolutional layers and 2 dense layers, similar to the one in the paper."
   ]
  },
  {
   "cell_type": "markdown",
   "metadata": {},
   "source": [
    "Tweaking"
   ]
  },
  {
   "cell_type": "markdown",
   "metadata": {},
   "source": [
    "### Load the keras model\n",
    "A user warning about compilation is generated because this model was converted from a keras 1.2 model and was thus never compiled for training."
   ]
  },
  {
   "cell_type": "code",
   "execution_count": 88,
   "metadata": {},
   "outputs": [
    {
     "name": "stdout",
     "output_type": "stream",
     "text": [
      "_________________________________________________________________\n",
      "Layer (type)                 Output Shape              Param #   \n",
      "=================================================================\n",
      "conv1 (Conv1D)               (None, 94, 1024)          41984     \n",
      "_________________________________________________________________\n",
      "downsample1 (MaxPooling1D)   (None, 94, 1024)          0         \n",
      "_________________________________________________________________\n",
      "conv2 (Conv1D)               (None, 90, 64)            327744    \n",
      "_________________________________________________________________\n",
      "downsample2 (MaxPooling1D)   (None, 90, 64)            0         \n",
      "_________________________________________________________________\n",
      "dropout1 (Dropout)           (None, 90, 64)            0         \n",
      "_________________________________________________________________\n",
      "conv3 (Conv1D)               (None, 86, 64)            20544     \n",
      "_________________________________________________________________\n",
      "conv4 (Conv1D)               (None, 84, 64)            12352     \n",
      "_________________________________________________________________\n",
      "downsample3 (MaxPooling1D)   (None, 84, 64)            0         \n",
      "_________________________________________________________________\n",
      "flatten1 (Flatten)           (None, 5376)              0         \n",
      "_________________________________________________________________\n",
      "dropout2 (Dropout)           (None, 5376)              0         \n",
      "_________________________________________________________________\n",
      "dense_13 (Dense)             (None, 64)                344128    \n",
      "_________________________________________________________________\n",
      "dropout3 (Dropout)           (None, 64)                0         \n",
      "_________________________________________________________________\n",
      "dense_14 (Dense)             (None, 64)                4160      \n",
      "_________________________________________________________________\n",
      "dropout4 (Dropout)           (None, 64)                0         \n",
      "_________________________________________________________________\n",
      "dense_15 (Dense)             (None, 1)                 65        \n",
      "=================================================================\n",
      "Total params: 750,977\n",
      "Trainable params: 750,977\n",
      "Non-trainable params: 0\n",
      "_________________________________________________________________\n"
     ]
    }
   ],
   "source": [
    "import keras\n",
    "saved_model_file = \"/home/ubuntu/CRISPR-BE-RNA-editing/model_outputs/CBE-19MAR/overall_model.h5\"\n",
    "keras_model = keras.models.load_model(saved_model_file)\n",
    "keras_model.summary()"
   ]
  },
  {
   "cell_type": "markdown",
   "metadata": {},
   "source": [
    "### Load the data"
   ]
  },
  {
   "cell_type": "code",
   "execution_count": 89,
   "metadata": {},
   "outputs": [
    {
     "name": "stdout",
     "output_type": "stream",
     "text": [
      "('/home/ubuntu/CRISPR-CBE-RNA-DATA/fastas/CBE-forDeepLift/89B-mid-sampled.fasta.gz', 1000)\n"
     ]
    }
   ],
   "source": [
    "import gzip\n",
    "import glob\n",
    "import numpy as np\n",
    "import random\n",
    "import pandas\n",
    "\n",
    "seqlen = 101\n",
    "edit_pos = 50\n",
    "#data_path = \"/home/ubuntu/CRISPR-ABE-RNA-DATA/fastas/ABE-forDeepLift/156B-mid-sampled.fasta.gz\"\n",
    "data_path = \"/home/ubuntu/CRISPR-CBE-RNA-DATA/fastas/CBE-forDeepLift/89B-mid-sampled.fasta.gz\"\n",
    "def read_fasta(f):\n",
    "    def gen():\n",
    "        for l in gzip.open(f, \"r\"):\n",
    "            if l.startswith(b'>'):\n",
    "                library, location, strand, rate, cov, anno, gene = l.split(b'_')\n",
    "                name = l.strip()[1:]\n",
    "            else:\n",
    "                yield l.strip().decode().lower(), float(rate), name\n",
    "    stack = pandas.DataFrame.from_records([v for v in gen()], columns=\"sequence rate name\".split())\n",
    "    print(f, stack.shape[0])\n",
    "    return stack\n",
    "\n",
    "\n",
    "seq_df = read_fasta(data_path)"
   ]
  },
  {
   "cell_type": "code",
   "execution_count": 90,
   "metadata": {},
   "outputs": [],
   "source": [
    "import numpy as np\n",
    "\n",
    "#this is set up for 1d convolutions where examples\n",
    "#have dimensions (len, num_channels)\n",
    "#the channel axis is the axis for one-hot encoding.\n",
    "def one_hot_encode_along_channel_axis(sequence):\n",
    "    to_return = np.zeros((len(sequence),5), dtype=np.int8)\n",
    "    seq_to_one_hot_fill_in_array(zeros_array=to_return,\n",
    "                                 sequence=sequence, one_hot_axis=1)\n",
    "    return to_return\n",
    "\n",
    "def seq_to_one_hot_fill_in_array(zeros_array, sequence, one_hot_axis):\n",
    "    assert one_hot_axis==0 or one_hot_axis==1\n",
    "    if (one_hot_axis==0):\n",
    "        assert zeros_array.shape[1] == len(sequence)\n",
    "    elif (one_hot_axis==1): \n",
    "        assert zeros_array.shape[0] == len(sequence)\n",
    "    \n",
    "    #will mutate zeros_array\n",
    "    for (i,char) in enumerate(sequence):\n",
    "        \n",
    "        # Hard-coded edit-specific channel\n",
    "        if(i == edit_pos):\n",
    "            char_idx = 4 # this corresponds to the edit - specific channel\n",
    "        elif (char==\"A\" or char==\"a\"):\n",
    "            char_idx = 0\n",
    "        elif (char==\"C\" or char==\"c\"):\n",
    "            char_idx = 1\n",
    "        elif (char==\"G\" or char==\"g\"):\n",
    "            char_idx = 2\n",
    "        elif (char==\"T\" or char==\"t\"):\n",
    "            char_idx = 3\n",
    "        elif (char==\"N\" or char==\"n\"):\n",
    "            continue #leave that pos as all 0's\n",
    "        else:\n",
    "            raise RuntimeError(\"Unsupported character: \"+str(char))\n",
    "        if (one_hot_axis==0):\n",
    "            zeros_array[char_idx,i] = 1\n",
    "        elif (one_hot_axis==1):\n",
    "            zeros_array[i,char_idx] = 1\n",
    "            \n",
    "onehot_data = np.array([one_hot_encode_along_channel_axis(seq) for seq in seq_df.sequence])"
   ]
  },
  {
   "cell_type": "code",
   "execution_count": 91,
   "metadata": {},
   "outputs": [
    {
     "data": {
      "text/plain": [
       "(1000, 101, 5)"
      ]
     },
     "execution_count": 91,
     "metadata": {},
     "output_type": "execute_result"
    }
   ],
   "source": [
    "onehot_data.shape"
   ]
  },
  {
   "cell_type": "markdown",
   "metadata": {},
   "source": [
    "## Prepare the deeplift models\n",
    "\n",
    "### Model conversion\n",
    "Convert the keras models to deeplift models capable of computing importance scores using DeepLIFT-RevealCancel, gradients and guided backprop"
   ]
  },
  {
   "cell_type": "code",
   "execution_count": 92,
   "metadata": {},
   "outputs": [
    {
     "name": "stdout",
     "output_type": "stream",
     "text": [
      "nonlinear_mxts_mode is set to: DeepLIFT_GenomicsDefault\n",
      "For layer 0 the preceding linear layer is preact_0 of type Conv1D;\n",
      "In accordance with nonlinear_mxts_mode=DeepLIFT_GenomicsDefault we are setting the NonlinearMxtsMode to Rescale\n",
      "Heads-up: current implementation assumes maxpool layer is followed by a linear transformation (conv/dense layer)\n",
      "For layer 2 the preceding linear layer is preact_2 of type Conv1D;\n",
      "In accordance with nonlinear_mxts_mode=DeepLIFT_GenomicsDefault we are setting the NonlinearMxtsMode to Rescale\n",
      "Heads-up: current implementation assumes maxpool layer is followed by a linear transformation (conv/dense layer)\n",
      "For layer 5 the preceding linear layer is preact_5 of type Conv1D;\n",
      "In accordance with nonlinear_mxts_mode=DeepLIFT_GenomicsDefault we are setting the NonlinearMxtsMode to Rescale\n",
      "For layer 6 the preceding linear layer is preact_6 of type Conv1D;\n",
      "In accordance with nonlinear_mxts_mode=DeepLIFT_GenomicsDefault we are setting the NonlinearMxtsMode to Rescale\n",
      "Heads-up: current implementation assumes maxpool layer is followed by a linear transformation (conv/dense layer)\n",
      "For layer 10 the preceding linear layer is preact_10 of type Dense;\n",
      "In accordance with nonlinear_mxts_modeDeepLIFT_GenomicsDefault we are setting the NonlinearMxtsMode to RevealCancel\n",
      "For layer 12 the preceding linear layer is preact_12 of type Dense;\n",
      "In accordance with nonlinear_mxts_modeDeepLIFT_GenomicsDefault we are setting the NonlinearMxtsMode to RevealCancel\n"
     ]
    }
   ],
   "source": [
    "import deeplift\n",
    "from deeplift.layers import NonlinearMxtsMode\n",
    "from deeplift.conversion import kerasapi_conversion as kc\n",
    "\n",
    "#revealcancel_model = kc.convert_model_from_saved_files(\n",
    "#                            h5_file=saved_model_file,\n",
    "#                            nonlinear_mxts_mode=NonlinearMxtsMode.RevealCancel)\n",
    "#grad_model = kc.convert_model_from_saved_files(\n",
    "#                            h5_file=saved_model_file,\n",
    "#                            nonlinear_mxts_mode=NonlinearMxtsMode.Gradient)\n",
    "#guided_backprop_model = kc.convert_model_from_saved_files(\n",
    "#                            h5_file=saved_model_file,\n",
    "#                            nonlinear_mxts_mode=NonlinearMxtsMode.GuidedBackprop)\n",
    "rescale_conv_revealcancel_fc = kc.convert_model_from_saved_files(\n",
    "                            h5_file=saved_model_file,\n",
    "                            nonlinear_mxts_mode=NonlinearMxtsMode.DeepLIFT_GenomicsDefault)\n"
   ]
  },
  {
   "cell_type": "code",
   "execution_count": 93,
   "metadata": {},
   "outputs": [],
   "source": [
    "from keras import backend as K\n",
    "import deeplift\n",
    "from deeplift.util import get_integrated_gradients_function\n",
    "\n",
    "#revealcancel_func = revealcancel_model.get_target_contribs_func(find_scores_layer_idx=0, target_layer_idx=-1)\n",
    "genomics_func = rescale_conv_revealcancel_fc.get_target_contribs_func(find_scores_layer_idx=0, target_layer_idx=-1)"
   ]
  },
  {
   "cell_type": "markdown",
   "metadata": {},
   "source": [
    "### Call scoring functions on the data"
   ]
  },
  {
   "cell_type": "code",
   "execution_count": 94,
   "metadata": {},
   "outputs": [],
   "source": [
    "scores = np.array(genomics_func( # revealcancel_func\n",
    "            task_idx=0,\n",
    "            input_data_list=[onehot_data],\n",
    "            input_references_list=[np.zeros_like(onehot_data)],\n",
    "            batch_size=1000,\n",
    "            progress_update=None))\n"
   ]
  },
  {
   "cell_type": "code",
   "execution_count": 95,
   "metadata": {},
   "outputs": [],
   "source": [
    "# Write out to file\n",
    "file_handle_out = open(\"CBE-outfile.tsv\", \"w\")\n",
    "\n",
    "# i defines which sequence is being examined\n",
    "for i in range(0,onehot_data.shape[0]): \n",
    "    scores_seq = scores[i,]\n",
    "    for pos_in_seq in range(0,onehot_data.shape[1]): # onehot_data.shape[1]\n",
    "        char = seq_df.sequence[i][pos_in_seq].decode()\n",
    "        \n",
    "        if(pos_in_seq == edit_pos):\n",
    "            char_idx == 4\n",
    "            char = \"e\"\n",
    "        elif (char==\"A\" or char==\"a\"):\n",
    "            char_idx = 0\n",
    "        elif (char==\"C\" or char==\"c\"):\n",
    "            char_idx = 1\n",
    "        elif (char==\"G\" or char==\"g\"):\n",
    "            char_idx = 2\n",
    "        elif (char==\"T\" or char==\"t\"):\n",
    "            char_idx = 3\n",
    "        \n",
    "        seq_name = seq_df.name[i]\n",
    "        score = round(scores_seq[pos_in_seq,char_idx],4)\n",
    "        if((score < 1e-05) and (score > -1e-05)):\n",
    "                score = 0\n",
    "        file_handle_out.write((\"\\t\".join([seq_name, char, str(pos_in_seq + 1), str(score)])+\"\\n\"))\n",
    "        \n",
    "file_handle_out.close()"
   ]
  },
  {
   "cell_type": "code",
   "execution_count": 83,
   "metadata": {},
   "outputs": [
    {
     "name": "stdout",
     "output_type": "stream",
     "text": [
      "Preceding 10 bases: agagaaggc\n",
      "Preceding 10 bases: cgagtcctcg\n",
      "Edit rate: 0.6833\n",
      "Predicted editing rate: [0.03541166]\n"
     ]
    },
    {
     "data": {
      "image/png": "[encoded data removed]",
      "text/plain": [
       "<Figure size 1440x144 with 1 Axes>"
      ]
     },
     "metadata": {},
     "output_type": "display_data"
    }
   ],
   "source": [
    "%matplotlib inline\n",
    "from deeplift.visualization import viz_sequence\n",
    "\n",
    "def inv_logit(p):\n",
    "    return np.exp(p) / (1 + np.exp(p))\n",
    "\n",
    "idx_view = 16\n",
    "print(\"Preceding 10 bases: \" + weighted_arrays[0].sequence[idx_view][40:49])\n",
    "print(\"Preceding 10 bases: \" + weighted_arrays[0].sequence[idx_view][51:61])\n",
    "print(\"Edit rate: \" + str(weighted_arrays[0].rate[idx_view]))\n",
    "print(\"Predicted editing rate: \" + str(inv_logit(predictions[idx_view])))\n",
    "\n",
    "scores_for_idx = scores2[idx_view]\n",
    "\n",
    "viz_sequence.plot_weights(scores_for_idx, subticks_frequency=10)"
   ]
  },
  {
   "cell_type": "code",
   "execution_count": null,
   "metadata": {},
   "outputs": [],
   "source": []
  }
 ],
 "metadata": {
  "kernelspec": {
   "display_name": "Python 2",
   "language": "python",
   "name": "python2"
  },
  "language_info": {
   "codemirror_mode": {
    "name": "ipython",
    "version": 2
   },
   "file_extension": ".py",
   "mimetype": "text/x-python",
   "name": "python",
   "nbconvert_exporter": "python",
   "pygments_lexer": "ipython2",
   "version": "2.7.12"
  }
 },
 "nbformat": 4,
 "nbformat_minor": 1
}
